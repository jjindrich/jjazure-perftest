{
 "cells": [
  {
   "attachments": {},
   "cell_type": "markdown",
   "metadata": {},
   "source": [
    "# Performance tests\n",
    "\n",
    "## Deploy Azure Container Registry (ACR)\n",
    "You need to create docker image and upload into ACR. We will use ACR Build task to build image inside of ACR."
   ]
  },
  {
   "cell_type": "code",
   "execution_count": null,
   "metadata": {
    "dotnet_interactive": {
     "language": "pwsh"
    },
    "polyglot_notebook": {
     "kernelName": "pwsh"
    }
   },
   "outputs": [],
   "source": [
    "$rg = 'perftest-rg'\n",
    "$acrName = 'jjazacrperf'\n",
    "az group create -n $rg -l SwedenCentral\n",
    "az deployment group create -g $rg --template-file deploy-acr.bicep --parameters acrName=$acrName\n",
    "\n",
    "# push image to ACR\n",
    "az acr build -t perftest:v2 -r $acrName https://github.com/jjindrich/jjazure-perftest.git -f PerfTest\\Dockerfile --platform linux"
   ]
  },
  {
   "attachments": {},
   "cell_type": "markdown",
   "metadata": {},
   "source": [
    "## Deploy Azure Kubernetes Service\n"
   ]
  },
  {
   "cell_type": "code",
   "execution_count": null,
   "metadata": {
    "dotnet_interactive": {
     "language": "pwsh"
    },
    "polyglot_notebook": {
     "kernelName": "pwsh"
    }
   },
   "outputs": [],
   "source": [
    "$rg = 'perftest-rg'\n",
    "$acrName = 'jjazacrperf'\n",
    "\n",
    "az network vnet create -n jjazvnetperf -g $rg -l SwedenCentral --address-prefixes 10.224.0.0/12\n",
    "az network vnet subnet create -n aci-snet -g $rg --vnet-name jjazvnetperf --address-prefixes 10.224.0.0/16\n",
    "az network vnet subnet create -n aks-snet -g $rg --vnet-name jjazvnetperf --address-prefixes 10.239.0.0/16\n",
    "$snet=$(az network vnet subnet show --resource-group $rg --vnet-name jjazvnetperf --name aks-snet --query id -o tsv)\n",
    "\n",
    "az aks create -n jjazaksperf -g $rg --node-count 3 -s Standard_D4ds_v5 --generate-ssh-keys --attach-acr $acrName -l SwedenCentral `\n",
    "--kubernetes-version 1.26.0 --network-plugin azure --network-policy azure --enable-managed-identity `\n",
    "--enable-addons virtual-node --aci-subnet-name aci-snet --vnet-subnet-id $snet\n",
    "\n",
    "az aks get-credentials --resource-group $rg --name jjazaksperf"
   ]
  }
 ],
 "metadata": {
  "kernelspec": {
   "display_name": ".NET (PowerShell)",
   "language": "PowerShell",
   "name": ".net-pwsh"
  },
  "language_info": {
   "name": "polyglot-notebook"
  },
  "polyglot_notebook": {
   "kernelInfo": {
    "defaultKernelName": "pwsh",
    "items": [
     {
      "aliases": [],
      "languageName": "pwsh",
      "name": "pwsh"
     }
    ]
   }
  }
 },
 "nbformat": 4,
 "nbformat_minor": 2
}
