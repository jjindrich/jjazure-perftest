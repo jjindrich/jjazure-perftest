{
 "cells": [
  {
   "attachments": {},
   "cell_type": "markdown",
   "metadata": {},
   "source": [
    "# Performance tests\n",
    "\n",
    "## Deploy Azure Container Registry (ACR)\n",
    "You need to create docker image and upload into ACR. We will use ACR Build task to build image inside of ACR."
   ]
  },
  {
   "cell_type": "code",
   "execution_count": null,
   "metadata": {
    "dotnet_interactive": {
     "language": "pwsh"
    },
    "polyglot_notebook": {
     "kernelName": "pwsh"
    }
   },
   "outputs": [],
   "source": [
    "$rg = 'perftest-rg'\n",
    "$acrName = 'jjazacrperf'\n",
    "az group create -n $rg -l SwedenCentral\n",
    "az deployment group create -g $rg --template-file deploy-acr.bicep --parameters acrName=$acrName\n",
    "\n",
    "# push image to ACR\n",
    "az acr build -t perftest:v2 -r $acrName https://github.com/jjindrich/jjazure-perftest.git -f PerfTest\\Dockerfile --platform linux"
   ]
  },
  {
   "attachments": {},
   "cell_type": "markdown",
   "metadata": {},
   "source": [
    "## Deploy Azure Kubernetes Service\n"
   ]
  },
  {
   "cell_type": "code",
   "execution_count": null,
   "metadata": {
    "dotnet_interactive": {
     "language": "pwsh"
    },
    "polyglot_notebook": {
     "kernelName": "pwsh"
    }
   },
   "outputs": [],
   "source": [
    "$rg = 'perftest-rg'\n",
    "$acrName = 'jjazacrperf'\n",
    "\n",
    "az network vnet create -n jjazvnetperf -g $rg -l SwedenCentral --address-prefixes 10.224.0.0/12\n",
    "az network vnet subnet create -n aci-snet -g $rg --vnet-name jjazvnetperf --address-prefixes 10.224.0.0/16\n",
    "az network vnet subnet create -n aks-snet -g $rg --vnet-name jjazvnetperf --address-prefixes 10.239.0.0/16\n",
    "$snet=$(az network vnet subnet show --resource-group $rg --vnet-name jjazvnetperf --name aks-snet --query id -o tsv)\n",
    "\n",
    "az aks create -n jjazaksperf -g $rg --node-count 3 -s Standard_D4ds_v5 --generate-ssh-keys --attach-acr $acrName -l SwedenCentral `\n",
    "--kubernetes-version 1.26.0 --network-plugin azure --network-policy azure --enable-managed-identity `\n",
    "--enable-addons virtual-node --aci-subnet-name aci-snet --vnet-subnet-id $snet\n",
    "\n",
    "az aks get-credentials --resource-group $rg --name jjazaksperf"
   ]
  },
  {
   "attachments": {},
   "cell_type": "markdown",
   "metadata": {},
   "source": [
    "Now configure AKS"
   ]
  },
  {
   "cell_type": "code",
   "execution_count": null,
   "metadata": {
    "dotnet_interactive": {
     "language": "pwsh"
    },
    "polyglot_notebook": {
     "kernelName": "pwsh"
    }
   },
   "outputs": [],
   "source": [
    "\n",
    "# save token to access ACR from ACI\n",
    "az acr token create --name aci-access --registry $acrName --scope-map _repositories_pull --output json\n",
    "docker login -u aci-access -p <password_from_json> jjazacrperf.azurecr.io\n",
    "kubectl create namespace perftest\n",
    "kubectl --namespace=perftest create secret generic regcred --from-file=.dockerconfigjson=/home/<your_profile>/.docker/config.json --type=kubernetes.io/dockerconfigjson\n",
    "\n",
    "# deploy deployment and autoscale\n",
    "# ! fix registry name and agentpool name\n",
    "kubectl apply -f .\\deploy-aks-deployment.yaml\n",
    "kubectl autoscale deployment perftest --cpu-percent=25 --min=8 --max=32 -n perftest\n",
    "\n",
    "# get pods and run test to external-ip\n",
    "kubectl get hpa -n perftest\n",
    "kubectl get pods -n perftest -o wide\n",
    "kubectl get svc -n perftest -o wide\n",
    "\n",
    "# run test\n",
    "http://<external-ip>/test\n",
    "\n",
    "# scaledown\n",
    "kubectl delete hpa perftest -n perftest\n",
    "kubectl scale deploy -n perftest --replicas=1 --all\n"
   ]
  }
 ],
 "metadata": {
  "kernelspec": {
   "display_name": ".NET (PowerShell)",
   "language": "PowerShell",
   "name": ".net-pwsh"
  },
  "language_info": {
   "name": "polyglot-notebook"
  },
  "polyglot_notebook": {
   "kernelInfo": {
    "defaultKernelName": "pwsh",
    "items": [
     {
      "aliases": [],
      "languageName": "pwsh",
      "name": "pwsh"
     }
    ]
   }
  }
 },
 "nbformat": 4,
 "nbformat_minor": 2
}
